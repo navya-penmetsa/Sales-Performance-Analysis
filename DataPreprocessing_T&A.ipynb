{
 "cells": [
  {
   "cell_type": "markdown",
   "id": "10aae097-2818-4402-9cfc-ce3bb917a2c2",
   "metadata": {},
   "source": [
    "## Import Libraries"
   ]
  },
  {
   "cell_type": "code",
   "execution_count": 4,
   "id": "74b12f14-508d-4ec3-8a65-3024eda1b840",
   "metadata": {},
   "outputs": [],
   "source": [
    "import pandas as pd\n",
    "import numpy as np\n",
    "\n",
    "from sklearn.preprocessing import StandardScaler\n",
    "from sklearn.preprocessing import MinMaxScaler\n",
    "from sklearn.preprocessing import LabelEncoder\n",
    "\n",
    "import matplotlib.pyplot as plt\n",
    "import seaborn as sns\n",
    "\n",
    "import scipy.stats as stats\n",
    "import pylab"
   ]
  },
  {
   "cell_type": "markdown",
   "id": "fb6964de-69e7-481b-87b2-830a200534e5",
   "metadata": {},
   "source": [
    "## Load Data"
   ]
  },
  {
   "cell_type": "code",
   "execution_count": 6,
   "id": "1df37105-c827-4633-a642-ab1e6c5f4fc1",
   "metadata": {},
   "outputs": [],
   "source": [
    "# Load the Excel file\n",
    "file_path = \"Target vs Actual - Dataset.xlsx\"\n",
    "data = pd.ExcelFile(file_path)\n",
    "\n",
    "# Load individual sheets into DataFrames\n",
    "actual_sales = data.parse(\"Actual Sales\")\n",
    "target_sales = data.parse(\"Target Sales\")\n",
    "product_details = data.parse(\"Product Details\")\n"
   ]
  },
  {
   "cell_type": "code",
   "execution_count": 7,
   "id": "5c685743-3d43-4595-a5fe-2ef6af39df9d",
   "metadata": {},
   "outputs": [
    {
     "data": {
      "text/html": [
       "<div>\n",
       "<style scoped>\n",
       "    .dataframe tbody tr th:only-of-type {\n",
       "        vertical-align: middle;\n",
       "    }\n",
       "\n",
       "    .dataframe tbody tr th {\n",
       "        vertical-align: top;\n",
       "    }\n",
       "\n",
       "    .dataframe thead th {\n",
       "        text-align: right;\n",
       "    }\n",
       "</style>\n",
       "<table border=\"1\" class=\"dataframe\">\n",
       "  <thead>\n",
       "    <tr style=\"text-align: right;\">\n",
       "      <th></th>\n",
       "      <th>Date</th>\n",
       "      <th>Product Id</th>\n",
       "      <th>Country</th>\n",
       "      <th>Product Category</th>\n",
       "      <th>Cost Price</th>\n",
       "      <th>Sale Price</th>\n",
       "      <th>Quantity</th>\n",
       "      <th>Cost Price Value</th>\n",
       "      <th>Sales Price Value</th>\n",
       "      <th>Discount %</th>\n",
       "      <th>Final Sales Price</th>\n",
       "      <th>Profit</th>\n",
       "    </tr>\n",
       "  </thead>\n",
       "  <tbody>\n",
       "    <tr>\n",
       "      <th>0</th>\n",
       "      <td>2017-01-01</td>\n",
       "      <td>7</td>\n",
       "      <td>United States</td>\n",
       "      <td>Elite</td>\n",
       "      <td>95</td>\n",
       "      <td>165</td>\n",
       "      <td>25</td>\n",
       "      <td>2375</td>\n",
       "      <td>4125</td>\n",
       "      <td>0.1</td>\n",
       "      <td>3712.5</td>\n",
       "      <td>1337.5</td>\n",
       "    </tr>\n",
       "    <tr>\n",
       "      <th>1</th>\n",
       "      <td>2017-01-02</td>\n",
       "      <td>5</td>\n",
       "      <td>United Kingdom</td>\n",
       "      <td>Standard</td>\n",
       "      <td>75</td>\n",
       "      <td>145</td>\n",
       "      <td>30</td>\n",
       "      <td>2250</td>\n",
       "      <td>4350</td>\n",
       "      <td>0.0</td>\n",
       "      <td>4350.0</td>\n",
       "      <td>2100.0</td>\n",
       "    </tr>\n",
       "    <tr>\n",
       "      <th>2</th>\n",
       "      <td>2017-01-03</td>\n",
       "      <td>3</td>\n",
       "      <td>Singapore</td>\n",
       "      <td>Standard</td>\n",
       "      <td>40</td>\n",
       "      <td>100</td>\n",
       "      <td>25</td>\n",
       "      <td>1000</td>\n",
       "      <td>2500</td>\n",
       "      <td>0.0</td>\n",
       "      <td>2500.0</td>\n",
       "      <td>1500.0</td>\n",
       "    </tr>\n",
       "    <tr>\n",
       "      <th>3</th>\n",
       "      <td>2017-01-04</td>\n",
       "      <td>9</td>\n",
       "      <td>India</td>\n",
       "      <td>Premium</td>\n",
       "      <td>125</td>\n",
       "      <td>230</td>\n",
       "      <td>35</td>\n",
       "      <td>4375</td>\n",
       "      <td>8050</td>\n",
       "      <td>0.0</td>\n",
       "      <td>8050.0</td>\n",
       "      <td>3675.0</td>\n",
       "    </tr>\n",
       "    <tr>\n",
       "      <th>4</th>\n",
       "      <td>2017-01-05</td>\n",
       "      <td>4</td>\n",
       "      <td>United States</td>\n",
       "      <td>Standard</td>\n",
       "      <td>50</td>\n",
       "      <td>95</td>\n",
       "      <td>30</td>\n",
       "      <td>1500</td>\n",
       "      <td>2850</td>\n",
       "      <td>0.0</td>\n",
       "      <td>2850.0</td>\n",
       "      <td>1350.0</td>\n",
       "    </tr>\n",
       "  </tbody>\n",
       "</table>\n",
       "</div>"
      ],
      "text/plain": [
       "        Date  Product Id         Country Product Category  Cost Price  \\\n",
       "0 2017-01-01           7   United States            Elite          95   \n",
       "1 2017-01-02           5  United Kingdom         Standard          75   \n",
       "2 2017-01-03           3       Singapore         Standard          40   \n",
       "3 2017-01-04           9           India          Premium         125   \n",
       "4 2017-01-05           4   United States         Standard          50   \n",
       "\n",
       "   Sale Price  Quantity  Cost Price Value  Sales Price Value  Discount %  \\\n",
       "0         165        25              2375               4125         0.1   \n",
       "1         145        30              2250               4350         0.0   \n",
       "2         100        25              1000               2500         0.0   \n",
       "3         230        35              4375               8050         0.0   \n",
       "4          95        30              1500               2850         0.0   \n",
       "\n",
       "   Final Sales Price  Profit  \n",
       "0             3712.5  1337.5  \n",
       "1             4350.0  2100.0  \n",
       "2             2500.0  1500.0  \n",
       "3             8050.0  3675.0  \n",
       "4             2850.0  1350.0  "
      ]
     },
     "execution_count": 7,
     "metadata": {},
     "output_type": "execute_result"
    }
   ],
   "source": [
    "# Actual Sales Sheet\n",
    "actual_sales.head()"
   ]
  },
  {
   "cell_type": "code",
   "execution_count": 8,
   "id": "4abaffd4-4e89-40ba-a511-ce827dd5a8d3",
   "metadata": {},
   "outputs": [
    {
     "name": "stdout",
     "output_type": "stream",
     "text": [
      "<class 'pandas.core.frame.DataFrame'>\n",
      "RangeIndex: 11941 entries, 0 to 11940\n",
      "Data columns (total 12 columns):\n",
      " #   Column             Non-Null Count  Dtype         \n",
      "---  ------             --------------  -----         \n",
      " 0   Date               11941 non-null  datetime64[ns]\n",
      " 1   Product Id         11941 non-null  int64         \n",
      " 2   Country            11941 non-null  object        \n",
      " 3   Product Category   11941 non-null  object        \n",
      " 4   Cost Price         11941 non-null  int64         \n",
      " 5   Sale Price         11941 non-null  int64         \n",
      " 6   Quantity           11941 non-null  int64         \n",
      " 7   Cost Price Value   11941 non-null  int64         \n",
      " 8   Sales Price Value  11941 non-null  int64         \n",
      " 9   Discount %         11941 non-null  float64       \n",
      " 10  Final Sales Price  11941 non-null  float64       \n",
      " 11  Profit             11941 non-null  float64       \n",
      "dtypes: datetime64[ns](1), float64(3), int64(6), object(2)\n",
      "memory usage: 1.1+ MB\n"
     ]
    }
   ],
   "source": [
    "actual_sales.info()"
   ]
  },
  {
   "cell_type": "code",
   "execution_count": 9,
   "id": "ad4b9315-d0e6-48d4-bbdf-7ee6e40655ef",
   "metadata": {},
   "outputs": [
    {
     "data": {
      "text/html": [
       "<div>\n",
       "<style scoped>\n",
       "    .dataframe tbody tr th:only-of-type {\n",
       "        vertical-align: middle;\n",
       "    }\n",
       "\n",
       "    .dataframe tbody tr th {\n",
       "        vertical-align: top;\n",
       "    }\n",
       "\n",
       "    .dataframe thead th {\n",
       "        text-align: right;\n",
       "    }\n",
       "</style>\n",
       "<table border=\"1\" class=\"dataframe\">\n",
       "  <thead>\n",
       "    <tr style=\"text-align: right;\">\n",
       "      <th></th>\n",
       "      <th>Date</th>\n",
       "      <th>Product Id</th>\n",
       "      <th>Cost Price</th>\n",
       "      <th>Sale Price</th>\n",
       "      <th>Quantity</th>\n",
       "      <th>Cost Price Value</th>\n",
       "      <th>Sales Price Value</th>\n",
       "      <th>Discount %</th>\n",
       "      <th>Final Sales Price</th>\n",
       "      <th>Profit</th>\n",
       "    </tr>\n",
       "  </thead>\n",
       "  <tbody>\n",
       "    <tr>\n",
       "      <th>count</th>\n",
       "      <td>11941</td>\n",
       "      <td>11941.000000</td>\n",
       "      <td>11941.000000</td>\n",
       "      <td>11941.000000</td>\n",
       "      <td>11941.000000</td>\n",
       "      <td>11941.000000</td>\n",
       "      <td>11941.000000</td>\n",
       "      <td>11941.000000</td>\n",
       "      <td>11941.000000</td>\n",
       "      <td>11941.000000</td>\n",
       "    </tr>\n",
       "    <tr>\n",
       "      <th>mean</th>\n",
       "      <td>2019-01-11 23:27:04.688049408</td>\n",
       "      <td>5.863914</td>\n",
       "      <td>90.495352</td>\n",
       "      <td>168.033247</td>\n",
       "      <td>33.700695</td>\n",
       "      <td>3051.132652</td>\n",
       "      <td>5666.171175</td>\n",
       "      <td>0.124194</td>\n",
       "      <td>4962.480634</td>\n",
       "      <td>1911.347982</td>\n",
       "    </tr>\n",
       "    <tr>\n",
       "      <th>min</th>\n",
       "      <td>2017-01-01 00:00:00</td>\n",
       "      <td>1.000000</td>\n",
       "      <td>40.000000</td>\n",
       "      <td>95.000000</td>\n",
       "      <td>25.000000</td>\n",
       "      <td>1000.000000</td>\n",
       "      <td>2375.000000</td>\n",
       "      <td>0.000000</td>\n",
       "      <td>1543.750000</td>\n",
       "      <td>125.000000</td>\n",
       "    </tr>\n",
       "    <tr>\n",
       "      <th>25%</th>\n",
       "      <td>2018-02-18 00:00:00</td>\n",
       "      <td>3.000000</td>\n",
       "      <td>75.000000</td>\n",
       "      <td>135.000000</td>\n",
       "      <td>30.000000</td>\n",
       "      <td>2250.000000</td>\n",
       "      <td>4050.000000</td>\n",
       "      <td>0.000000</td>\n",
       "      <td>3443.750000</td>\n",
       "      <td>1057.500000</td>\n",
       "    </tr>\n",
       "    <tr>\n",
       "      <th>50%</th>\n",
       "      <td>2019-01-28 00:00:00</td>\n",
       "      <td>7.000000</td>\n",
       "      <td>95.000000</td>\n",
       "      <td>165.000000</td>\n",
       "      <td>35.000000</td>\n",
       "      <td>3000.000000</td>\n",
       "      <td>5700.000000</td>\n",
       "      <td>0.100000</td>\n",
       "      <td>4702.500000</td>\n",
       "      <td>1800.000000</td>\n",
       "    </tr>\n",
       "    <tr>\n",
       "      <th>75%</th>\n",
       "      <td>2019-12-03 00:00:00</td>\n",
       "      <td>8.000000</td>\n",
       "      <td>110.000000</td>\n",
       "      <td>220.000000</td>\n",
       "      <td>40.000000</td>\n",
       "      <td>3750.000000</td>\n",
       "      <td>6900.000000</td>\n",
       "      <td>0.250000</td>\n",
       "      <td>6210.000000</td>\n",
       "      <td>2510.000000</td>\n",
       "    </tr>\n",
       "    <tr>\n",
       "      <th>max</th>\n",
       "      <td>2020-12-31 00:00:00</td>\n",
       "      <td>10.000000</td>\n",
       "      <td>150.000000</td>\n",
       "      <td>280.000000</td>\n",
       "      <td>45.000000</td>\n",
       "      <td>6750.000000</td>\n",
       "      <td>12600.000000</td>\n",
       "      <td>0.350000</td>\n",
       "      <td>12600.000000</td>\n",
       "      <td>5850.000000</td>\n",
       "    </tr>\n",
       "    <tr>\n",
       "      <th>std</th>\n",
       "      <td>NaN</td>\n",
       "      <td>2.696015</td>\n",
       "      <td>28.902228</td>\n",
       "      <td>50.786309</td>\n",
       "      <td>6.606721</td>\n",
       "      <td>1163.923443</td>\n",
       "      <td>2079.742212</td>\n",
       "      <td>0.129114</td>\n",
       "      <td>1981.275998</td>\n",
       "      <td>1058.371359</td>\n",
       "    </tr>\n",
       "  </tbody>\n",
       "</table>\n",
       "</div>"
      ],
      "text/plain": [
       "                                Date    Product Id    Cost Price  \\\n",
       "count                          11941  11941.000000  11941.000000   \n",
       "mean   2019-01-11 23:27:04.688049408      5.863914     90.495352   \n",
       "min              2017-01-01 00:00:00      1.000000     40.000000   \n",
       "25%              2018-02-18 00:00:00      3.000000     75.000000   \n",
       "50%              2019-01-28 00:00:00      7.000000     95.000000   \n",
       "75%              2019-12-03 00:00:00      8.000000    110.000000   \n",
       "max              2020-12-31 00:00:00     10.000000    150.000000   \n",
       "std                              NaN      2.696015     28.902228   \n",
       "\n",
       "         Sale Price      Quantity  Cost Price Value  Sales Price Value  \\\n",
       "count  11941.000000  11941.000000      11941.000000       11941.000000   \n",
       "mean     168.033247     33.700695       3051.132652        5666.171175   \n",
       "min       95.000000     25.000000       1000.000000        2375.000000   \n",
       "25%      135.000000     30.000000       2250.000000        4050.000000   \n",
       "50%      165.000000     35.000000       3000.000000        5700.000000   \n",
       "75%      220.000000     40.000000       3750.000000        6900.000000   \n",
       "max      280.000000     45.000000       6750.000000       12600.000000   \n",
       "std       50.786309      6.606721       1163.923443        2079.742212   \n",
       "\n",
       "         Discount %  Final Sales Price        Profit  \n",
       "count  11941.000000       11941.000000  11941.000000  \n",
       "mean       0.124194        4962.480634   1911.347982  \n",
       "min        0.000000        1543.750000    125.000000  \n",
       "25%        0.000000        3443.750000   1057.500000  \n",
       "50%        0.100000        4702.500000   1800.000000  \n",
       "75%        0.250000        6210.000000   2510.000000  \n",
       "max        0.350000       12600.000000   5850.000000  \n",
       "std        0.129114        1981.275998   1058.371359  "
      ]
     },
     "execution_count": 9,
     "metadata": {},
     "output_type": "execute_result"
    }
   ],
   "source": [
    "actual_sales.describe()"
   ]
  },
  {
   "cell_type": "code",
   "execution_count": 10,
   "id": "22b9c169-7479-44d1-bef2-2086237c0ee9",
   "metadata": {},
   "outputs": [
    {
     "data": {
      "text/plain": [
       "(11941, 12)"
      ]
     },
     "execution_count": 10,
     "metadata": {},
     "output_type": "execute_result"
    }
   ],
   "source": [
    "actual_sales.shape"
   ]
  },
  {
   "cell_type": "code",
   "execution_count": 11,
   "id": "ae2005bb-0735-44c6-93e2-a47cb000f603",
   "metadata": {},
   "outputs": [
    {
     "data": {
      "text/html": [
       "<div>\n",
       "<style scoped>\n",
       "    .dataframe tbody tr th:only-of-type {\n",
       "        vertical-align: middle;\n",
       "    }\n",
       "\n",
       "    .dataframe tbody tr th {\n",
       "        vertical-align: top;\n",
       "    }\n",
       "\n",
       "    .dataframe thead th {\n",
       "        text-align: right;\n",
       "    }\n",
       "</style>\n",
       "<table border=\"1\" class=\"dataframe\">\n",
       "  <thead>\n",
       "    <tr style=\"text-align: right;\">\n",
       "      <th></th>\n",
       "      <th>Date</th>\n",
       "      <th>Product Id</th>\n",
       "      <th>Target Sale</th>\n",
       "    </tr>\n",
       "  </thead>\n",
       "  <tbody>\n",
       "    <tr>\n",
       "      <th>0</th>\n",
       "      <td>2017-01-31</td>\n",
       "      <td>1</td>\n",
       "      <td>100000</td>\n",
       "    </tr>\n",
       "    <tr>\n",
       "      <th>1</th>\n",
       "      <td>2017-02-28</td>\n",
       "      <td>1</td>\n",
       "      <td>100000</td>\n",
       "    </tr>\n",
       "    <tr>\n",
       "      <th>2</th>\n",
       "      <td>2017-03-31</td>\n",
       "      <td>1</td>\n",
       "      <td>100000</td>\n",
       "    </tr>\n",
       "    <tr>\n",
       "      <th>3</th>\n",
       "      <td>2017-04-30</td>\n",
       "      <td>1</td>\n",
       "      <td>100000</td>\n",
       "    </tr>\n",
       "    <tr>\n",
       "      <th>4</th>\n",
       "      <td>2017-05-31</td>\n",
       "      <td>1</td>\n",
       "      <td>100000</td>\n",
       "    </tr>\n",
       "  </tbody>\n",
       "</table>\n",
       "</div>"
      ],
      "text/plain": [
       "        Date  Product Id  Target Sale\n",
       "0 2017-01-31           1       100000\n",
       "1 2017-02-28           1       100000\n",
       "2 2017-03-31           1       100000\n",
       "3 2017-04-30           1       100000\n",
       "4 2017-05-31           1       100000"
      ]
     },
     "execution_count": 11,
     "metadata": {},
     "output_type": "execute_result"
    }
   ],
   "source": [
    "# Target Sales Sheet\n",
    "target_sales.head()"
   ]
  },
  {
   "cell_type": "code",
   "execution_count": 12,
   "id": "1bb3233a-8d57-4fe9-aa77-de902ba9f9de",
   "metadata": {},
   "outputs": [
    {
     "name": "stdout",
     "output_type": "stream",
     "text": [
      "<class 'pandas.core.frame.DataFrame'>\n",
      "RangeIndex: 480 entries, 0 to 479\n",
      "Data columns (total 3 columns):\n",
      " #   Column       Non-Null Count  Dtype         \n",
      "---  ------       --------------  -----         \n",
      " 0   Date         480 non-null    datetime64[ns]\n",
      " 1   Product Id   480 non-null    int64         \n",
      " 2   Target Sale  480 non-null    int64         \n",
      "dtypes: datetime64[ns](1), int64(2)\n",
      "memory usage: 11.4 KB\n"
     ]
    }
   ],
   "source": [
    "target_sales.info()"
   ]
  },
  {
   "cell_type": "code",
   "execution_count": 13,
   "id": "2b98bc66-2ba1-4888-8547-551cc81eaf46",
   "metadata": {},
   "outputs": [
    {
     "data": {
      "text/html": [
       "<div>\n",
       "<style scoped>\n",
       "    .dataframe tbody tr th:only-of-type {\n",
       "        vertical-align: middle;\n",
       "    }\n",
       "\n",
       "    .dataframe tbody tr th {\n",
       "        vertical-align: top;\n",
       "    }\n",
       "\n",
       "    .dataframe thead th {\n",
       "        text-align: right;\n",
       "    }\n",
       "</style>\n",
       "<table border=\"1\" class=\"dataframe\">\n",
       "  <thead>\n",
       "    <tr style=\"text-align: right;\">\n",
       "      <th></th>\n",
       "      <th>Date</th>\n",
       "      <th>Product Id</th>\n",
       "      <th>Target Sale</th>\n",
       "    </tr>\n",
       "  </thead>\n",
       "  <tbody>\n",
       "    <tr>\n",
       "      <th>count</th>\n",
       "      <td>480</td>\n",
       "      <td>480.000000</td>\n",
       "      <td>480.000000</td>\n",
       "    </tr>\n",
       "    <tr>\n",
       "      <th>mean</th>\n",
       "      <td>2019-01-14 15:30:00</td>\n",
       "      <td>5.500000</td>\n",
       "      <td>118750.000000</td>\n",
       "    </tr>\n",
       "    <tr>\n",
       "      <th>min</th>\n",
       "      <td>2017-01-31 00:00:00</td>\n",
       "      <td>1.000000</td>\n",
       "      <td>100000.000000</td>\n",
       "    </tr>\n",
       "    <tr>\n",
       "      <th>25%</th>\n",
       "      <td>2018-01-23 06:00:00</td>\n",
       "      <td>3.000000</td>\n",
       "      <td>111250.000000</td>\n",
       "    </tr>\n",
       "    <tr>\n",
       "      <th>50%</th>\n",
       "      <td>2019-01-15 12:00:00</td>\n",
       "      <td>5.500000</td>\n",
       "      <td>120000.000000</td>\n",
       "    </tr>\n",
       "    <tr>\n",
       "      <th>75%</th>\n",
       "      <td>2020-01-07 18:00:00</td>\n",
       "      <td>8.000000</td>\n",
       "      <td>127500.000000</td>\n",
       "    </tr>\n",
       "    <tr>\n",
       "      <th>max</th>\n",
       "      <td>2020-12-31 00:00:00</td>\n",
       "      <td>10.000000</td>\n",
       "      <td>135000.000000</td>\n",
       "    </tr>\n",
       "    <tr>\n",
       "      <th>std</th>\n",
       "      <td>NaN</td>\n",
       "      <td>2.875278</td>\n",
       "      <td>12943.590477</td>\n",
       "    </tr>\n",
       "  </tbody>\n",
       "</table>\n",
       "</div>"
      ],
      "text/plain": [
       "                      Date  Product Id    Target Sale\n",
       "count                  480  480.000000     480.000000\n",
       "mean   2019-01-14 15:30:00    5.500000  118750.000000\n",
       "min    2017-01-31 00:00:00    1.000000  100000.000000\n",
       "25%    2018-01-23 06:00:00    3.000000  111250.000000\n",
       "50%    2019-01-15 12:00:00    5.500000  120000.000000\n",
       "75%    2020-01-07 18:00:00    8.000000  127500.000000\n",
       "max    2020-12-31 00:00:00   10.000000  135000.000000\n",
       "std                    NaN    2.875278   12943.590477"
      ]
     },
     "execution_count": 13,
     "metadata": {},
     "output_type": "execute_result"
    }
   ],
   "source": [
    "target_sales.describe()"
   ]
  },
  {
   "cell_type": "code",
   "execution_count": 14,
   "id": "3b63be1d-935b-4e38-b4f7-4a0f999c13c6",
   "metadata": {},
   "outputs": [
    {
     "data": {
      "text/plain": [
       "(480, 3)"
      ]
     },
     "execution_count": 14,
     "metadata": {},
     "output_type": "execute_result"
    }
   ],
   "source": [
    "target_sales.shape"
   ]
  },
  {
   "cell_type": "code",
   "execution_count": 15,
   "id": "9b3ae162-0ef3-494b-a623-59f0245bacbc",
   "metadata": {},
   "outputs": [
    {
     "data": {
      "text/html": [
       "<div>\n",
       "<style scoped>\n",
       "    .dataframe tbody tr th:only-of-type {\n",
       "        vertical-align: middle;\n",
       "    }\n",
       "\n",
       "    .dataframe tbody tr th {\n",
       "        vertical-align: top;\n",
       "    }\n",
       "\n",
       "    .dataframe thead th {\n",
       "        text-align: right;\n",
       "    }\n",
       "</style>\n",
       "<table border=\"1\" class=\"dataframe\">\n",
       "  <thead>\n",
       "    <tr style=\"text-align: right;\">\n",
       "      <th></th>\n",
       "      <th>Product Id</th>\n",
       "      <th>Product Name</th>\n",
       "      <th>Product Category</th>\n",
       "      <th>Cost Price</th>\n",
       "      <th>Sale Price</th>\n",
       "    </tr>\n",
       "  </thead>\n",
       "  <tbody>\n",
       "    <tr>\n",
       "      <th>0</th>\n",
       "      <td>1</td>\n",
       "      <td>Prod A</td>\n",
       "      <td>Standard</td>\n",
       "      <td>60</td>\n",
       "      <td>100</td>\n",
       "    </tr>\n",
       "    <tr>\n",
       "      <th>1</th>\n",
       "      <td>2</td>\n",
       "      <td>Prod B</td>\n",
       "      <td>Standard</td>\n",
       "      <td>80</td>\n",
       "      <td>135</td>\n",
       "    </tr>\n",
       "    <tr>\n",
       "      <th>2</th>\n",
       "      <td>3</td>\n",
       "      <td>Prod C</td>\n",
       "      <td>Standard</td>\n",
       "      <td>40</td>\n",
       "      <td>100</td>\n",
       "    </tr>\n",
       "    <tr>\n",
       "      <th>3</th>\n",
       "      <td>4</td>\n",
       "      <td>Prod D</td>\n",
       "      <td>Standard</td>\n",
       "      <td>50</td>\n",
       "      <td>95</td>\n",
       "    </tr>\n",
       "    <tr>\n",
       "      <th>4</th>\n",
       "      <td>5</td>\n",
       "      <td>Prod E</td>\n",
       "      <td>Standard</td>\n",
       "      <td>75</td>\n",
       "      <td>145</td>\n",
       "    </tr>\n",
       "  </tbody>\n",
       "</table>\n",
       "</div>"
      ],
      "text/plain": [
       "   Product Id Product Name Product Category  Cost Price  Sale Price\n",
       "0           1       Prod A         Standard          60         100\n",
       "1           2       Prod B         Standard          80         135\n",
       "2           3       Prod C         Standard          40         100\n",
       "3           4       Prod D         Standard          50          95\n",
       "4           5       Prod E         Standard          75         145"
      ]
     },
     "execution_count": 15,
     "metadata": {},
     "output_type": "execute_result"
    }
   ],
   "source": [
    "# Product Dteails Sheet\n",
    "product_details.head()"
   ]
  },
  {
   "cell_type": "code",
   "execution_count": 16,
   "id": "ecb6e9ce-34da-4dae-9b51-8ebbfad0fca2",
   "metadata": {},
   "outputs": [
    {
     "name": "stdout",
     "output_type": "stream",
     "text": [
      "<class 'pandas.core.frame.DataFrame'>\n",
      "RangeIndex: 10 entries, 0 to 9\n",
      "Data columns (total 5 columns):\n",
      " #   Column            Non-Null Count  Dtype \n",
      "---  ------            --------------  ----- \n",
      " 0   Product Id        10 non-null     int64 \n",
      " 1   Product Name      10 non-null     object\n",
      " 2   Product Category  10 non-null     object\n",
      " 3   Cost Price        10 non-null     int64 \n",
      " 4   Sale Price        10 non-null     int64 \n",
      "dtypes: int64(3), object(2)\n",
      "memory usage: 532.0+ bytes\n"
     ]
    }
   ],
   "source": [
    "product_details.info()"
   ]
  },
  {
   "cell_type": "code",
   "execution_count": 17,
   "id": "42498933-a7a2-4ed9-a0a3-f2af0b6b0c61",
   "metadata": {},
   "outputs": [
    {
     "data": {
      "text/html": [
       "<div>\n",
       "<style scoped>\n",
       "    .dataframe tbody tr th:only-of-type {\n",
       "        vertical-align: middle;\n",
       "    }\n",
       "\n",
       "    .dataframe tbody tr th {\n",
       "        vertical-align: top;\n",
       "    }\n",
       "\n",
       "    .dataframe thead th {\n",
       "        text-align: right;\n",
       "    }\n",
       "</style>\n",
       "<table border=\"1\" class=\"dataframe\">\n",
       "  <thead>\n",
       "    <tr style=\"text-align: right;\">\n",
       "      <th></th>\n",
       "      <th>Product Id</th>\n",
       "      <th>Cost Price</th>\n",
       "      <th>Sale Price</th>\n",
       "    </tr>\n",
       "  </thead>\n",
       "  <tbody>\n",
       "    <tr>\n",
       "      <th>count</th>\n",
       "      <td>10.00000</td>\n",
       "      <td>10.00000</td>\n",
       "      <td>10.000000</td>\n",
       "    </tr>\n",
       "    <tr>\n",
       "      <th>mean</th>\n",
       "      <td>5.50000</td>\n",
       "      <td>88.50000</td>\n",
       "      <td>166.000000</td>\n",
       "    </tr>\n",
       "    <tr>\n",
       "      <th>std</th>\n",
       "      <td>3.02765</td>\n",
       "      <td>34.40365</td>\n",
       "      <td>63.016753</td>\n",
       "    </tr>\n",
       "    <tr>\n",
       "      <th>min</th>\n",
       "      <td>1.00000</td>\n",
       "      <td>40.00000</td>\n",
       "      <td>95.000000</td>\n",
       "    </tr>\n",
       "    <tr>\n",
       "      <th>25%</th>\n",
       "      <td>3.25000</td>\n",
       "      <td>63.75000</td>\n",
       "      <td>108.750000</td>\n",
       "    </tr>\n",
       "    <tr>\n",
       "      <th>50%</th>\n",
       "      <td>5.50000</td>\n",
       "      <td>87.50000</td>\n",
       "      <td>155.000000</td>\n",
       "    </tr>\n",
       "    <tr>\n",
       "      <th>75%</th>\n",
       "      <td>7.75000</td>\n",
       "      <td>107.50000</td>\n",
       "      <td>212.500000</td>\n",
       "    </tr>\n",
       "    <tr>\n",
       "      <th>max</th>\n",
       "      <td>10.00000</td>\n",
       "      <td>150.00000</td>\n",
       "      <td>280.000000</td>\n",
       "    </tr>\n",
       "  </tbody>\n",
       "</table>\n",
       "</div>"
      ],
      "text/plain": [
       "       Product Id  Cost Price  Sale Price\n",
       "count    10.00000    10.00000   10.000000\n",
       "mean      5.50000    88.50000  166.000000\n",
       "std       3.02765    34.40365   63.016753\n",
       "min       1.00000    40.00000   95.000000\n",
       "25%       3.25000    63.75000  108.750000\n",
       "50%       5.50000    87.50000  155.000000\n",
       "75%       7.75000   107.50000  212.500000\n",
       "max      10.00000   150.00000  280.000000"
      ]
     },
     "execution_count": 17,
     "metadata": {},
     "output_type": "execute_result"
    }
   ],
   "source": [
    "product_details.describe()"
   ]
  },
  {
   "cell_type": "code",
   "execution_count": 18,
   "id": "e3c6723d-b677-4720-a2a2-9a8cbfd676a8",
   "metadata": {},
   "outputs": [
    {
     "data": {
      "text/plain": [
       "(10, 5)"
      ]
     },
     "execution_count": 18,
     "metadata": {},
     "output_type": "execute_result"
    }
   ],
   "source": [
    "product_details.shape"
   ]
  },
  {
   "cell_type": "markdown",
   "id": "f4435e5c-aaaf-461b-a4e2-4f2ab066bd68",
   "metadata": {},
   "source": [
    "## Imputation"
   ]
  },
  {
   "cell_type": "code",
   "execution_count": 20,
   "id": "7149b547-3654-4881-b02a-210716d5bf5d",
   "metadata": {},
   "outputs": [
    {
     "data": {
      "text/plain": [
       "Date                 0\n",
       "Product Id           0\n",
       "Country              0\n",
       "Product Category     0\n",
       "Cost Price           0\n",
       "Sale Price           0\n",
       "Quantity             0\n",
       "Cost Price Value     0\n",
       "Sales Price Value    0\n",
       "Discount %           0\n",
       "Final Sales Price    0\n",
       "Profit               0\n",
       "dtype: int64"
      ]
     },
     "execution_count": 20,
     "metadata": {},
     "output_type": "execute_result"
    }
   ],
   "source": [
    "# Checking for missing values in actual_sales\n",
    "actual_sales.isna().sum()"
   ]
  },
  {
   "cell_type": "code",
   "execution_count": 21,
   "id": "ab9214b5-a8a8-4be0-a186-8fa8d94e57e6",
   "metadata": {},
   "outputs": [
    {
     "data": {
      "text/plain": [
       "Date           0\n",
       "Product Id     0\n",
       "Target Sale    0\n",
       "dtype: int64"
      ]
     },
     "execution_count": 21,
     "metadata": {},
     "output_type": "execute_result"
    }
   ],
   "source": [
    "# Checking for missing values in traget_sales\n",
    "target_sales.isna().sum()"
   ]
  },
  {
   "cell_type": "code",
   "execution_count": 22,
   "id": "f9156c0f-1c00-4a8b-8a9c-bfdcfcb72145",
   "metadata": {},
   "outputs": [
    {
     "data": {
      "text/plain": [
       "Product Id          0\n",
       "Product Name        0\n",
       "Product Category    0\n",
       "Cost Price          0\n",
       "Sale Price          0\n",
       "dtype: int64"
      ]
     },
     "execution_count": 22,
     "metadata": {},
     "output_type": "execute_result"
    }
   ],
   "source": [
    "# Checking for missing values in product_details\n",
    "product_details.isna().sum()"
   ]
  },
  {
   "cell_type": "markdown",
   "id": "4cf28235-765f-4071-9d80-06bf6878f570",
   "metadata": {},
   "source": [
    "## Duplicates"
   ]
  },
  {
   "cell_type": "code",
   "execution_count": 24,
   "id": "85ba165f-6136-4e9b-8c0b-304c9a257bcb",
   "metadata": {},
   "outputs": [
    {
     "name": "stdout",
     "output_type": "stream",
     "text": [
      "Total duplicate rows are:  1752\n"
     ]
    }
   ],
   "source": [
    "# Handling duplicate rows in actual_sales\n",
    "duplicate = actual_sales.duplicated()\n",
    "count = 0\n",
    "for i in duplicate: \n",
    "    if i == True:\n",
    "        count += 1\n",
    "print(\"Total duplicate rows are: \", count)"
   ]
  },
  {
   "cell_type": "code",
   "execution_count": 25,
   "id": "e0503427-c18b-4578-9813-df0bd738dcda",
   "metadata": {},
   "outputs": [
    {
     "name": "stdout",
     "output_type": "stream",
     "text": [
      "Shape of actual_sales after removing duplicates  (10189, 12)\n"
     ]
    }
   ],
   "source": [
    "actual_sales = actual_sales.drop_duplicates()\n",
    "print(\"Shape of actual_sales after removing duplicates \", actual_sales.shape)"
   ]
  },
  {
   "cell_type": "code",
   "execution_count": 26,
   "id": "94abefa3-220e-42b0-ad92-9abbe2eb8c30",
   "metadata": {},
   "outputs": [
    {
     "name": "stdout",
     "output_type": "stream",
     "text": [
      "Total duplicate rows are:  0\n"
     ]
    }
   ],
   "source": [
    "# Handling duplicate rows in target_sales\n",
    "duplicate_t = target_sales.duplicated()\n",
    "count = 0\n",
    "for i in duplicate_t: \n",
    "    if i == True:\n",
    "        count += 1\n",
    "print(\"Total duplicate rows are: \", count)"
   ]
  },
  {
   "cell_type": "code",
   "execution_count": 27,
   "id": "68ab6bf5-6805-4eee-aa97-1dfa604e1535",
   "metadata": {},
   "outputs": [
    {
     "name": "stdout",
     "output_type": "stream",
     "text": [
      "Total duplicate rows are:  0\n"
     ]
    }
   ],
   "source": [
    "# Handling duplicate rows in product_details\n",
    "duplicate_p = product_details.duplicated()\n",
    "count = 0\n",
    "for i in duplicate_p: \n",
    "    if i == True:\n",
    "        count += 1\n",
    "print(\"Total duplicate rows are: \", count)"
   ]
  },
  {
   "cell_type": "markdown",
   "id": "98315bbf-462b-4443-b4b1-b29c5b07847b",
   "metadata": {},
   "source": [
    "## Outliers"
   ]
  },
  {
   "cell_type": "code",
   "execution_count": 29,
   "id": "8fea8192-16f7-404c-b799-4405545a50be",
   "metadata": {},
   "outputs": [
    {
     "data": {
      "text/plain": [
       "<Axes: ylabel='Quantity'>"
      ]
     },
     "execution_count": 29,
     "metadata": {},
     "output_type": "execute_result"
    },
    {
     "data": {
      "image/png": "[encoded data removed]",
      "text/plain": [
       "<Figure size 640x480 with 1 Axes>"
      ]
     },
     "metadata": {},
     "output_type": "display_data"
    }
   ],
   "source": [
    "# Handling Outliers for Quantity column\n",
    "sns.boxplot(actual_sales.Quantity)"
   ]
  },
  {
   "cell_type": "code",
   "execution_count": 30,
   "id": "8e94f518-fcb7-4c48-a192-cfd6e2efdf45",
   "metadata": {},
   "outputs": [
    {
     "name": "stdout",
     "output_type": "stream",
     "text": [
      "IQR for Quntity is  5.0\n",
      "Lower limit for Qunatity is  22.5\n",
      "Upper limit for Qunatity is  42.5\n"
     ]
    }
   ],
   "source": [
    "# Detecting outliers of Quantity\n",
    "IQR_q = actual_sales[\"Quantity\"].quantile(0.75) - actual_sales[\"Quantity\"].quantile(0.25)\n",
    "print(\"IQR for Quntity is \", IQR_q)\n",
    "lower_q = actual_sales[\"Quantity\"].quantile(0.25) - (IQR_q * 1.5)\n",
    "print(\"Lower limit for Qunatity is \", lower_q)\n",
    "upper_q = actual_sales[\"Quantity\"].quantile(0.75) + (IQR_q * 1.5)\n",
    "print(\"Upper limit for Qunatity is \", upper_q)"
   ]
  },
  {
   "cell_type": "code",
   "execution_count": 31,
   "id": "486568f2-7e2f-423d-8a6b-80785a4044e6",
   "metadata": {},
   "outputs": [
    {
     "data": {
      "text/plain": [
       "<Axes: ylabel='Quantity'>"
      ]
     },
     "execution_count": 31,
     "metadata": {},
     "output_type": "execute_result"
    },
    {
     "data": {
      "image/png": "[encoded data removed]",
      "text/plain": [
       "<Figure size 640x480 with 1 Axes>"
      ]
     },
     "metadata": {},
     "output_type": "display_data"
    }
   ],
   "source": [
    "# Replacing outliers of Quantity\n",
    "actual_sales[\"Quantity\"] = pd.DataFrame(np.where(actual_sales[\"Quantity\"] > upper_q, upper_q, np.where(actual_sales[\"Quantity\"] < lower_q, lower_q, actual_sales[\"Quantity\"])))\n",
    "sns.boxplot(actual_sales[\"Quantity\"])"
   ]
  },
  {
   "cell_type": "code",
   "execution_count": 32,
   "id": "a5d8ff8c-8245-4f3d-b615-bc5d43ebbc45",
   "metadata": {},
   "outputs": [
    {
     "data": {
      "text/plain": [
       "<Axes: ylabel='Cost Price Value'>"
      ]
     },
     "execution_count": 32,
     "metadata": {},
     "output_type": "execute_result"
    },
    {
     "data": {
      "image/png": "[encoded data removed]",
      "text/plain": [
       "<Figure size 640x480 with 1 Axes>"
      ]
     },
     "metadata": {},
     "output_type": "display_data"
    }
   ],
   "source": [
    "# Handling Outliers for Cost Price Value column\n",
    "sns.boxplot(actual_sales[\"Cost Price Value\"])"
   ]
  },
  {
   "cell_type": "code",
   "execution_count": 33,
   "id": "a60471ea-dd37-4947-a74b-9ebe82190bab",
   "metadata": {},
   "outputs": [
    {
     "name": "stdout",
     "output_type": "stream",
     "text": [
      "IQR for Cost Price Value is  1500.0\n",
      "Lower limit for Cost Price Value is  0.0\n",
      "Upper limit for Cost Price Value is  6000.0\n"
     ]
    }
   ],
   "source": [
    "# Detecting outliers of Cost Price Value\n",
    "IQR_cpv = actual_sales[\"Cost Price Value\"].quantile(0.75) - actual_sales[\"Cost Price Value\"].quantile(0.25)\n",
    "print(\"IQR for Cost Price Value is \", IQR_cpv)\n",
    "lower_cpv = actual_sales[\"Cost Price Value\"].quantile(0.25) - (IQR_cpv * 1.5)\n",
    "print(\"Lower limit for Cost Price Value is \", lower_cpv)\n",
    "upper_cpv = actual_sales[\"Cost Price Value\"].quantile(0.75) + (IQR_cpv * 1.5)\n",
    "print(\"Upper limit for Cost Price Value is \", upper_cpv)"
   ]
  },
  {
   "cell_type": "code",
   "execution_count": 34,
   "id": "be631cc1-8273-4c3d-ab6a-e2fdf6fac6a9",
   "metadata": {},
   "outputs": [
    {
     "data": {
      "text/plain": [
       "<Axes: ylabel='Cost Price Value'>"
      ]
     },
     "execution_count": 34,
     "metadata": {},
     "output_type": "execute_result"
    },
    {
     "data": {
      "image/png": "[encoded data removed]",
      "text/plain": [
       "<Figure size 640x480 with 1 Axes>"
      ]
     },
     "metadata": {},
     "output_type": "display_data"
    }
   ],
   "source": [
    "# Replacing outliers of Cost Price Value\n",
    "actual_sales[\"Cost Price Value\"] = pd.DataFrame(np.where(actual_sales[\"Cost Price Value\"] > upper_cpv, upper_cpv, np.where(actual_sales[\"Cost Price Value\"] < lower_cpv, lower_cpv, actual_sales[\"Cost Price Value\"])))\n",
    "sns.boxplot(actual_sales[\"Cost Price Value\"])"
   ]
  },
  {
   "cell_type": "code",
   "execution_count": 35,
   "id": "581f54f4-dcee-41c0-8401-d2a012784b75",
   "metadata": {},
   "outputs": [
    {
     "data": {
      "text/plain": [
       "<Axes: ylabel='Sales Price Value'>"
      ]
     },
     "execution_count": 35,
     "metadata": {},
     "output_type": "execute_result"
    },
    {
     "data": {
      "image/png": "[encoded data removed]",
      "text/plain": [
       "<Figure size 640x480 with 1 Axes>"
      ]
     },
     "metadata": {},
     "output_type": "display_data"
    }
   ],
   "source": [
    "# Handling Outliers for Sales Price Value column\n",
    "sns.boxplot(actual_sales[\"Sales Price Value\"])"
   ]
  },
  {
   "cell_type": "code",
   "execution_count": 36,
   "id": "8df177a9-b058-4148-af01-03f46917d4be",
   "metadata": {},
   "outputs": [
    {
     "name": "stdout",
     "output_type": "stream",
     "text": [
      "IQR for Sales Price Value is  2850.0\n",
      "Lower limit for Sales Price Value is  -225.0\n",
      "Upper limit for Sales Price Value is  11175.0\n"
     ]
    }
   ],
   "source": [
    "# Detecting outliers of Sales Price Value\n",
    "IQR_spv = actual_sales[\"Sales Price Value\"].quantile(0.75) - actual_sales[\"Sales Price Value\"].quantile(0.25)\n",
    "print(\"IQR for Sales Price Value is \", IQR_spv)\n",
    "lower_spv = actual_sales[\"Sales Price Value\"].quantile(0.25) - (IQR_spv * 1.5)\n",
    "print(\"Lower limit for Sales Price Value is \", lower_spv)\n",
    "upper_spv = actual_sales[\"Sales Price Value\"].quantile(0.75) + (IQR_spv * 1.5)\n",
    "print(\"Upper limit for Sales Price Value is \", upper_spv)"
   ]
  },
  {
   "cell_type": "code",
   "execution_count": 37,
   "id": "051581de-ad5e-4523-ab8d-c4cda9301fc0",
   "metadata": {},
   "outputs": [
    {
     "data": {
      "text/plain": [
       "<Axes: ylabel='Sales Price Value'>"
      ]
     },
     "execution_count": 37,
     "metadata": {},
     "output_type": "execute_result"
    },
    {
     "data": {
      "image/png": "[encoded data removed]",
      "text/plain": [
       "<Figure size 640x480 with 1 Axes>"
      ]
     },
     "metadata": {},
     "output_type": "display_data"
    }
   ],
   "source": [
    "# Replacing outliers of Sales Price Value\n",
    "actual_sales[\"Sales Price Value\"] = pd.DataFrame(np.where(actual_sales[\"Sales Price Value\"] > upper_spv, upper_spv, np.where(actual_sales[\"Sales Price Value\"] < lower_spv, lower_spv, actual_sales[\"Sales Price Value\"])))\n",
    "sns.boxplot(actual_sales[\"Sales Price Value\"])"
   ]
  },
  {
   "cell_type": "markdown",
   "id": "07c3220b-0b85-4460-ba80-af760f2949df",
   "metadata": {},
   "source": [
    "## Discretization"
   ]
  },
  {
   "cell_type": "code",
   "execution_count": 39,
   "id": "be91c548-296b-4572-a3aa-fef50094d8fb",
   "metadata": {},
   "outputs": [
    {
     "data": {
      "text/plain": [
       "Index(['Date', 'Product Id', 'Country', 'Product Category', 'Cost Price',\n",
       "       'Sale Price', 'Quantity', 'Cost Price Value', 'Sales Price Value',\n",
       "       'Discount %', 'Final Sales Price', 'Profit'],\n",
       "      dtype='object')"
      ]
     },
     "execution_count": 39,
     "metadata": {},
     "output_type": "execute_result"
    }
   ],
   "source": [
    "actual_sales.columns"
   ]
  },
  {
   "cell_type": "code",
   "execution_count": 40,
   "id": "cb53ff6f-05ee-4ebc-a042-b66c6442a0de",
   "metadata": {},
   "outputs": [],
   "source": [
    "# Discretizing Discount % column in actual_sales\n",
    "actual_sales[\"Discount Bin\"] = pd.cut(actual_sales[\"Discount %\"], bins=3, labels=[\"Low\", \"Medium\", \"High\"])"
   ]
  },
  {
   "cell_type": "code",
   "execution_count": 41,
   "id": "4112d0bc-d6f7-48ce-af14-661127d072d2",
   "metadata": {},
   "outputs": [
    {
     "data": {
      "text/html": [
       "<div>\n",
       "<style scoped>\n",
       "    .dataframe tbody tr th:only-of-type {\n",
       "        vertical-align: middle;\n",
       "    }\n",
       "\n",
       "    .dataframe tbody tr th {\n",
       "        vertical-align: top;\n",
       "    }\n",
       "\n",
       "    .dataframe thead th {\n",
       "        text-align: right;\n",
       "    }\n",
       "</style>\n",
       "<table border=\"1\" class=\"dataframe\">\n",
       "  <thead>\n",
       "    <tr style=\"text-align: right;\">\n",
       "      <th></th>\n",
       "      <th>Date</th>\n",
       "      <th>Product Id</th>\n",
       "      <th>Country</th>\n",
       "      <th>Product Category</th>\n",
       "      <th>Cost Price</th>\n",
       "      <th>Sale Price</th>\n",
       "      <th>Quantity</th>\n",
       "      <th>Cost Price Value</th>\n",
       "      <th>Sales Price Value</th>\n",
       "      <th>Discount %</th>\n",
       "      <th>Final Sales Price</th>\n",
       "      <th>Profit</th>\n",
       "      <th>Discount Bin</th>\n",
       "    </tr>\n",
       "  </thead>\n",
       "  <tbody>\n",
       "    <tr>\n",
       "      <th>0</th>\n",
       "      <td>2017-01-01</td>\n",
       "      <td>7</td>\n",
       "      <td>United States</td>\n",
       "      <td>Elite</td>\n",
       "      <td>95</td>\n",
       "      <td>165</td>\n",
       "      <td>25.0</td>\n",
       "      <td>2375.0</td>\n",
       "      <td>4125.0</td>\n",
       "      <td>0.1</td>\n",
       "      <td>3712.5</td>\n",
       "      <td>1337.5</td>\n",
       "      <td>Low</td>\n",
       "    </tr>\n",
       "    <tr>\n",
       "      <th>1</th>\n",
       "      <td>2017-01-02</td>\n",
       "      <td>5</td>\n",
       "      <td>United Kingdom</td>\n",
       "      <td>Standard</td>\n",
       "      <td>75</td>\n",
       "      <td>145</td>\n",
       "      <td>30.0</td>\n",
       "      <td>2250.0</td>\n",
       "      <td>4350.0</td>\n",
       "      <td>0.0</td>\n",
       "      <td>4350.0</td>\n",
       "      <td>2100.0</td>\n",
       "      <td>Low</td>\n",
       "    </tr>\n",
       "    <tr>\n",
       "      <th>2</th>\n",
       "      <td>2017-01-03</td>\n",
       "      <td>3</td>\n",
       "      <td>Singapore</td>\n",
       "      <td>Standard</td>\n",
       "      <td>40</td>\n",
       "      <td>100</td>\n",
       "      <td>25.0</td>\n",
       "      <td>1000.0</td>\n",
       "      <td>2500.0</td>\n",
       "      <td>0.0</td>\n",
       "      <td>2500.0</td>\n",
       "      <td>1500.0</td>\n",
       "      <td>Low</td>\n",
       "    </tr>\n",
       "    <tr>\n",
       "      <th>3</th>\n",
       "      <td>2017-01-04</td>\n",
       "      <td>9</td>\n",
       "      <td>India</td>\n",
       "      <td>Premium</td>\n",
       "      <td>125</td>\n",
       "      <td>230</td>\n",
       "      <td>35.0</td>\n",
       "      <td>4375.0</td>\n",
       "      <td>8050.0</td>\n",
       "      <td>0.0</td>\n",
       "      <td>8050.0</td>\n",
       "      <td>3675.0</td>\n",
       "      <td>Low</td>\n",
       "    </tr>\n",
       "    <tr>\n",
       "      <th>4</th>\n",
       "      <td>2017-01-05</td>\n",
       "      <td>4</td>\n",
       "      <td>United States</td>\n",
       "      <td>Standard</td>\n",
       "      <td>50</td>\n",
       "      <td>95</td>\n",
       "      <td>30.0</td>\n",
       "      <td>1500.0</td>\n",
       "      <td>2850.0</td>\n",
       "      <td>0.0</td>\n",
       "      <td>2850.0</td>\n",
       "      <td>1350.0</td>\n",
       "      <td>Low</td>\n",
       "    </tr>\n",
       "  </tbody>\n",
       "</table>\n",
       "</div>"
      ],
      "text/plain": [
       "        Date  Product Id         Country Product Category  Cost Price  \\\n",
       "0 2017-01-01           7   United States            Elite          95   \n",
       "1 2017-01-02           5  United Kingdom         Standard          75   \n",
       "2 2017-01-03           3       Singapore         Standard          40   \n",
       "3 2017-01-04           9           India          Premium         125   \n",
       "4 2017-01-05           4   United States         Standard          50   \n",
       "\n",
       "   Sale Price  Quantity  Cost Price Value  Sales Price Value  Discount %  \\\n",
       "0         165      25.0            2375.0             4125.0         0.1   \n",
       "1         145      30.0            2250.0             4350.0         0.0   \n",
       "2         100      25.0            1000.0             2500.0         0.0   \n",
       "3         230      35.0            4375.0             8050.0         0.0   \n",
       "4          95      30.0            1500.0             2850.0         0.0   \n",
       "\n",
       "   Final Sales Price  Profit Discount Bin  \n",
       "0             3712.5  1337.5          Low  \n",
       "1             4350.0  2100.0          Low  \n",
       "2             2500.0  1500.0          Low  \n",
       "3             8050.0  3675.0          Low  \n",
       "4             2850.0  1350.0          Low  "
      ]
     },
     "execution_count": 41,
     "metadata": {},
     "output_type": "execute_result"
    }
   ],
   "source": [
    "actual_sales.head()"
   ]
  },
  {
   "cell_type": "markdown",
   "id": "e777db6a-1da8-41f7-8d8d-1933ed4c131d",
   "metadata": {},
   "source": [
    "## Encoding"
   ]
  },
  {
   "cell_type": "code",
   "execution_count": 43,
   "id": "18760ff9-dcbf-479b-ae1a-1c174ffad562",
   "metadata": {},
   "outputs": [
    {
     "data": {
      "text/plain": [
       "Index(['Product Id', 'Product Name', 'Product Category', 'Cost Price',\n",
       "       'Sale Price'],\n",
       "      dtype='object')"
      ]
     },
     "execution_count": 43,
     "metadata": {},
     "output_type": "execute_result"
    }
   ],
   "source": [
    "product_details.columns"
   ]
  },
  {
   "cell_type": "code",
   "execution_count": 44,
   "id": "b82fd5f7-33a0-4b3f-8844-219a9efa1a76",
   "metadata": {},
   "outputs": [],
   "source": [
    "# Encoding the Category column in product_details\n",
    "le = LabelEncoder()\n",
    "product_details[\"category_encoded\"] = le.fit_transform(product_details[\"Product Category\"])"
   ]
  },
  {
   "cell_type": "code",
   "execution_count": 45,
   "id": "a6c5712c-a918-4673-9e4b-a81ae9fac6c2",
   "metadata": {},
   "outputs": [
    {
     "data": {
      "text/html": [
       "<div>\n",
       "<style scoped>\n",
       "    .dataframe tbody tr th:only-of-type {\n",
       "        vertical-align: middle;\n",
       "    }\n",
       "\n",
       "    .dataframe tbody tr th {\n",
       "        vertical-align: top;\n",
       "    }\n",
       "\n",
       "    .dataframe thead th {\n",
       "        text-align: right;\n",
       "    }\n",
       "</style>\n",
       "<table border=\"1\" class=\"dataframe\">\n",
       "  <thead>\n",
       "    <tr style=\"text-align: right;\">\n",
       "      <th></th>\n",
       "      <th>Product Id</th>\n",
       "      <th>Product Name</th>\n",
       "      <th>Product Category</th>\n",
       "      <th>Cost Price</th>\n",
       "      <th>Sale Price</th>\n",
       "      <th>category_encoded</th>\n",
       "    </tr>\n",
       "  </thead>\n",
       "  <tbody>\n",
       "    <tr>\n",
       "      <th>0</th>\n",
       "      <td>1</td>\n",
       "      <td>Prod A</td>\n",
       "      <td>Standard</td>\n",
       "      <td>60</td>\n",
       "      <td>100</td>\n",
       "      <td>2</td>\n",
       "    </tr>\n",
       "    <tr>\n",
       "      <th>1</th>\n",
       "      <td>2</td>\n",
       "      <td>Prod B</td>\n",
       "      <td>Standard</td>\n",
       "      <td>80</td>\n",
       "      <td>135</td>\n",
       "      <td>2</td>\n",
       "    </tr>\n",
       "    <tr>\n",
       "      <th>2</th>\n",
       "      <td>3</td>\n",
       "      <td>Prod C</td>\n",
       "      <td>Standard</td>\n",
       "      <td>40</td>\n",
       "      <td>100</td>\n",
       "      <td>2</td>\n",
       "    </tr>\n",
       "    <tr>\n",
       "      <th>3</th>\n",
       "      <td>4</td>\n",
       "      <td>Prod D</td>\n",
       "      <td>Standard</td>\n",
       "      <td>50</td>\n",
       "      <td>95</td>\n",
       "      <td>2</td>\n",
       "    </tr>\n",
       "    <tr>\n",
       "      <th>4</th>\n",
       "      <td>5</td>\n",
       "      <td>Prod E</td>\n",
       "      <td>Standard</td>\n",
       "      <td>75</td>\n",
       "      <td>145</td>\n",
       "      <td>2</td>\n",
       "    </tr>\n",
       "  </tbody>\n",
       "</table>\n",
       "</div>"
      ],
      "text/plain": [
       "   Product Id Product Name Product Category  Cost Price  Sale Price  \\\n",
       "0           1       Prod A         Standard          60         100   \n",
       "1           2       Prod B         Standard          80         135   \n",
       "2           3       Prod C         Standard          40         100   \n",
       "3           4       Prod D         Standard          50          95   \n",
       "4           5       Prod E         Standard          75         145   \n",
       "\n",
       "   category_encoded  \n",
       "0                 2  \n",
       "1                 2  \n",
       "2                 2  \n",
       "3                 2  \n",
       "4                 2  "
      ]
     },
     "execution_count": 45,
     "metadata": {},
     "output_type": "execute_result"
    }
   ],
   "source": [
    "product_details.head()"
   ]
  },
  {
   "cell_type": "markdown",
   "id": "2d9530dc-ca01-497f-8ed0-0240c2da6597",
   "metadata": {},
   "source": [
    "## Standardization"
   ]
  },
  {
   "cell_type": "code",
   "execution_count": 47,
   "id": "11c6ece8-b46f-4ed6-be92-d1ccf3fdd360",
   "metadata": {},
   "outputs": [],
   "source": [
    "# Standardizaing Final Sales Price column in actual_sales\n",
    "scaler = StandardScaler()\n",
    "actual_sales[[\"final_price_standard\"]] = scaler.fit_transform(actual_sales[[\"Final Sales Price\"]])"
   ]
  },
  {
   "cell_type": "code",
   "execution_count": 48,
   "id": "c5e29fef-b175-47d1-bcc4-391c72cca81a",
   "metadata": {},
   "outputs": [
    {
     "data": {
      "text/html": [
       "<div>\n",
       "<style scoped>\n",
       "    .dataframe tbody tr th:only-of-type {\n",
       "        vertical-align: middle;\n",
       "    }\n",
       "\n",
       "    .dataframe tbody tr th {\n",
       "        vertical-align: top;\n",
       "    }\n",
       "\n",
       "    .dataframe thead th {\n",
       "        text-align: right;\n",
       "    }\n",
       "</style>\n",
       "<table border=\"1\" class=\"dataframe\">\n",
       "  <thead>\n",
       "    <tr style=\"text-align: right;\">\n",
       "      <th></th>\n",
       "      <th>Date</th>\n",
       "      <th>Product Id</th>\n",
       "      <th>Country</th>\n",
       "      <th>Product Category</th>\n",
       "      <th>Cost Price</th>\n",
       "      <th>Sale Price</th>\n",
       "      <th>Quantity</th>\n",
       "      <th>Cost Price Value</th>\n",
       "      <th>Sales Price Value</th>\n",
       "      <th>Discount %</th>\n",
       "      <th>Final Sales Price</th>\n",
       "      <th>Profit</th>\n",
       "      <th>Discount Bin</th>\n",
       "      <th>final_price_standard</th>\n",
       "    </tr>\n",
       "  </thead>\n",
       "  <tbody>\n",
       "    <tr>\n",
       "      <th>0</th>\n",
       "      <td>2017-01-01</td>\n",
       "      <td>7</td>\n",
       "      <td>United States</td>\n",
       "      <td>Elite</td>\n",
       "      <td>95</td>\n",
       "      <td>165</td>\n",
       "      <td>25.0</td>\n",
       "      <td>2375.0</td>\n",
       "      <td>4125.0</td>\n",
       "      <td>0.1</td>\n",
       "      <td>3712.5</td>\n",
       "      <td>1337.5</td>\n",
       "      <td>Low</td>\n",
       "      <td>-0.625395</td>\n",
       "    </tr>\n",
       "    <tr>\n",
       "      <th>1</th>\n",
       "      <td>2017-01-02</td>\n",
       "      <td>5</td>\n",
       "      <td>United Kingdom</td>\n",
       "      <td>Standard</td>\n",
       "      <td>75</td>\n",
       "      <td>145</td>\n",
       "      <td>30.0</td>\n",
       "      <td>2250.0</td>\n",
       "      <td>4350.0</td>\n",
       "      <td>0.0</td>\n",
       "      <td>4350.0</td>\n",
       "      <td>2100.0</td>\n",
       "      <td>Low</td>\n",
       "      <td>-0.302856</td>\n",
       "    </tr>\n",
       "    <tr>\n",
       "      <th>2</th>\n",
       "      <td>2017-01-03</td>\n",
       "      <td>3</td>\n",
       "      <td>Singapore</td>\n",
       "      <td>Standard</td>\n",
       "      <td>40</td>\n",
       "      <td>100</td>\n",
       "      <td>25.0</td>\n",
       "      <td>1000.0</td>\n",
       "      <td>2500.0</td>\n",
       "      <td>0.0</td>\n",
       "      <td>2500.0</td>\n",
       "      <td>1500.0</td>\n",
       "      <td>Low</td>\n",
       "      <td>-1.238851</td>\n",
       "    </tr>\n",
       "    <tr>\n",
       "      <th>3</th>\n",
       "      <td>2017-01-04</td>\n",
       "      <td>9</td>\n",
       "      <td>India</td>\n",
       "      <td>Premium</td>\n",
       "      <td>125</td>\n",
       "      <td>230</td>\n",
       "      <td>35.0</td>\n",
       "      <td>4375.0</td>\n",
       "      <td>8050.0</td>\n",
       "      <td>0.0</td>\n",
       "      <td>8050.0</td>\n",
       "      <td>3675.0</td>\n",
       "      <td>Low</td>\n",
       "      <td>1.569133</td>\n",
       "    </tr>\n",
       "    <tr>\n",
       "      <th>4</th>\n",
       "      <td>2017-01-05</td>\n",
       "      <td>4</td>\n",
       "      <td>United States</td>\n",
       "      <td>Standard</td>\n",
       "      <td>50</td>\n",
       "      <td>95</td>\n",
       "      <td>30.0</td>\n",
       "      <td>1500.0</td>\n",
       "      <td>2850.0</td>\n",
       "      <td>0.0</td>\n",
       "      <td>2850.0</td>\n",
       "      <td>1350.0</td>\n",
       "      <td>Low</td>\n",
       "      <td>-1.061771</td>\n",
       "    </tr>\n",
       "  </tbody>\n",
       "</table>\n",
       "</div>"
      ],
      "text/plain": [
       "        Date  Product Id         Country Product Category  Cost Price  \\\n",
       "0 2017-01-01           7   United States            Elite          95   \n",
       "1 2017-01-02           5  United Kingdom         Standard          75   \n",
       "2 2017-01-03           3       Singapore         Standard          40   \n",
       "3 2017-01-04           9           India          Premium         125   \n",
       "4 2017-01-05           4   United States         Standard          50   \n",
       "\n",
       "   Sale Price  Quantity  Cost Price Value  Sales Price Value  Discount %  \\\n",
       "0         165      25.0            2375.0             4125.0         0.1   \n",
       "1         145      30.0            2250.0             4350.0         0.0   \n",
       "2         100      25.0            1000.0             2500.0         0.0   \n",
       "3         230      35.0            4375.0             8050.0         0.0   \n",
       "4          95      30.0            1500.0             2850.0         0.0   \n",
       "\n",
       "   Final Sales Price  Profit Discount Bin  final_price_standard  \n",
       "0             3712.5  1337.5          Low             -0.625395  \n",
       "1             4350.0  2100.0          Low             -0.302856  \n",
       "2             2500.0  1500.0          Low             -1.238851  \n",
       "3             8050.0  3675.0          Low              1.569133  \n",
       "4             2850.0  1350.0          Low             -1.061771  "
      ]
     },
     "execution_count": 48,
     "metadata": {},
     "output_type": "execute_result"
    }
   ],
   "source": [
    "actual_sales.head()"
   ]
  },
  {
   "cell_type": "markdown",
   "id": "ef2ff169-c6ba-4499-97e5-b03bc525313e",
   "metadata": {},
   "source": [
    "## Normalization"
   ]
  },
  {
   "cell_type": "code",
   "execution_count": 50,
   "id": "48e35809-d0dc-4604-8d46-1993a6861c25",
   "metadata": {},
   "outputs": [],
   "source": [
    "# Noramilzing Discount % column in actual_sales\n",
    "min_max_scaler = MinMaxScaler()\n",
    "actual_sales[[\"discount_normal\"]] = min_max_scaler.fit_transform(actual_sales[[\"Discount %\"]])"
   ]
  },
  {
   "cell_type": "code",
   "execution_count": 51,
   "id": "8dc0778e-da49-43ec-b64a-afde7eb301f2",
   "metadata": {},
   "outputs": [
    {
     "data": {
      "text/html": [
       "<div>\n",
       "<style scoped>\n",
       "    .dataframe tbody tr th:only-of-type {\n",
       "        vertical-align: middle;\n",
       "    }\n",
       "\n",
       "    .dataframe tbody tr th {\n",
       "        vertical-align: top;\n",
       "    }\n",
       "\n",
       "    .dataframe thead th {\n",
       "        text-align: right;\n",
       "    }\n",
       "</style>\n",
       "<table border=\"1\" class=\"dataframe\">\n",
       "  <thead>\n",
       "    <tr style=\"text-align: right;\">\n",
       "      <th></th>\n",
       "      <th>Date</th>\n",
       "      <th>Product Id</th>\n",
       "      <th>Country</th>\n",
       "      <th>Product Category</th>\n",
       "      <th>Cost Price</th>\n",
       "      <th>Sale Price</th>\n",
       "      <th>Quantity</th>\n",
       "      <th>Cost Price Value</th>\n",
       "      <th>Sales Price Value</th>\n",
       "      <th>Discount %</th>\n",
       "      <th>Final Sales Price</th>\n",
       "      <th>Profit</th>\n",
       "      <th>Discount Bin</th>\n",
       "      <th>final_price_standard</th>\n",
       "      <th>discount_normal</th>\n",
       "    </tr>\n",
       "  </thead>\n",
       "  <tbody>\n",
       "    <tr>\n",
       "      <th>0</th>\n",
       "      <td>2017-01-01</td>\n",
       "      <td>7</td>\n",
       "      <td>United States</td>\n",
       "      <td>Elite</td>\n",
       "      <td>95</td>\n",
       "      <td>165</td>\n",
       "      <td>25.0</td>\n",
       "      <td>2375.0</td>\n",
       "      <td>4125.0</td>\n",
       "      <td>0.1</td>\n",
       "      <td>3712.5</td>\n",
       "      <td>1337.5</td>\n",
       "      <td>Low</td>\n",
       "      <td>-0.625395</td>\n",
       "      <td>0.285714</td>\n",
       "    </tr>\n",
       "    <tr>\n",
       "      <th>1</th>\n",
       "      <td>2017-01-02</td>\n",
       "      <td>5</td>\n",
       "      <td>United Kingdom</td>\n",
       "      <td>Standard</td>\n",
       "      <td>75</td>\n",
       "      <td>145</td>\n",
       "      <td>30.0</td>\n",
       "      <td>2250.0</td>\n",
       "      <td>4350.0</td>\n",
       "      <td>0.0</td>\n",
       "      <td>4350.0</td>\n",
       "      <td>2100.0</td>\n",
       "      <td>Low</td>\n",
       "      <td>-0.302856</td>\n",
       "      <td>0.000000</td>\n",
       "    </tr>\n",
       "    <tr>\n",
       "      <th>2</th>\n",
       "      <td>2017-01-03</td>\n",
       "      <td>3</td>\n",
       "      <td>Singapore</td>\n",
       "      <td>Standard</td>\n",
       "      <td>40</td>\n",
       "      <td>100</td>\n",
       "      <td>25.0</td>\n",
       "      <td>1000.0</td>\n",
       "      <td>2500.0</td>\n",
       "      <td>0.0</td>\n",
       "      <td>2500.0</td>\n",
       "      <td>1500.0</td>\n",
       "      <td>Low</td>\n",
       "      <td>-1.238851</td>\n",
       "      <td>0.000000</td>\n",
       "    </tr>\n",
       "    <tr>\n",
       "      <th>3</th>\n",
       "      <td>2017-01-04</td>\n",
       "      <td>9</td>\n",
       "      <td>India</td>\n",
       "      <td>Premium</td>\n",
       "      <td>125</td>\n",
       "      <td>230</td>\n",
       "      <td>35.0</td>\n",
       "      <td>4375.0</td>\n",
       "      <td>8050.0</td>\n",
       "      <td>0.0</td>\n",
       "      <td>8050.0</td>\n",
       "      <td>3675.0</td>\n",
       "      <td>Low</td>\n",
       "      <td>1.569133</td>\n",
       "      <td>0.000000</td>\n",
       "    </tr>\n",
       "    <tr>\n",
       "      <th>4</th>\n",
       "      <td>2017-01-05</td>\n",
       "      <td>4</td>\n",
       "      <td>United States</td>\n",
       "      <td>Standard</td>\n",
       "      <td>50</td>\n",
       "      <td>95</td>\n",
       "      <td>30.0</td>\n",
       "      <td>1500.0</td>\n",
       "      <td>2850.0</td>\n",
       "      <td>0.0</td>\n",
       "      <td>2850.0</td>\n",
       "      <td>1350.0</td>\n",
       "      <td>Low</td>\n",
       "      <td>-1.061771</td>\n",
       "      <td>0.000000</td>\n",
       "    </tr>\n",
       "  </tbody>\n",
       "</table>\n",
       "</div>"
      ],
      "text/plain": [
       "        Date  Product Id         Country Product Category  Cost Price  \\\n",
       "0 2017-01-01           7   United States            Elite          95   \n",
       "1 2017-01-02           5  United Kingdom         Standard          75   \n",
       "2 2017-01-03           3       Singapore         Standard          40   \n",
       "3 2017-01-04           9           India          Premium         125   \n",
       "4 2017-01-05           4   United States         Standard          50   \n",
       "\n",
       "   Sale Price  Quantity  Cost Price Value  Sales Price Value  Discount %  \\\n",
       "0         165      25.0            2375.0             4125.0         0.1   \n",
       "1         145      30.0            2250.0             4350.0         0.0   \n",
       "2         100      25.0            1000.0             2500.0         0.0   \n",
       "3         230      35.0            4375.0             8050.0         0.0   \n",
       "4          95      30.0            1500.0             2850.0         0.0   \n",
       "\n",
       "   Final Sales Price  Profit Discount Bin  final_price_standard  \\\n",
       "0             3712.5  1337.5          Low             -0.625395   \n",
       "1             4350.0  2100.0          Low             -0.302856   \n",
       "2             2500.0  1500.0          Low             -1.238851   \n",
       "3             8050.0  3675.0          Low              1.569133   \n",
       "4             2850.0  1350.0          Low             -1.061771   \n",
       "\n",
       "   discount_normal  \n",
       "0         0.285714  \n",
       "1         0.000000  \n",
       "2         0.000000  \n",
       "3         0.000000  \n",
       "4         0.000000  "
      ]
     },
     "execution_count": 51,
     "metadata": {},
     "output_type": "execute_result"
    }
   ],
   "source": [
    "actual_sales.head()"
   ]
  },
  {
   "cell_type": "markdown",
   "id": "cde69c37-b3e3-4b97-9bf1-04f2ec327f7e",
   "metadata": {},
   "source": [
    "## Q-Q Plot"
   ]
  },
  {
   "cell_type": "code",
   "execution_count": 108,
   "id": "7dcf41d7-83ce-46ae-9fdb-c34a50f38f63",
   "metadata": {},
   "outputs": [
    {
     "data": {
      "text/plain": [
       "((array([-3.81523515, -3.59034048, -3.46688384, ...,  3.46688384,\n",
       "          3.59034048,  3.81523515]),\n",
       "  array([ 1543.75,  1543.75,  1543.75, ..., 12600.  , 12600.  , 12600.  ])),\n",
       " (1939.1337040700118, 4948.597016390225, 0.9807461033136483))"
      ]
     },
     "execution_count": 108,
     "metadata": {},
     "output_type": "execute_result"
    },
    {
     "data": {
      "image/png": "[encoded data removed]",
      "text/plain": [
       "<Figure size 640x480 with 1 Axes>"
      ]
     },
     "metadata": {},
     "output_type": "display_data"
    }
   ],
   "source": [
    "stats.probplot(actual_sales[\"Final Sales Price\"], dist = \"norm\", plot = pylab)"
   ]
  },
  {
   "cell_type": "code",
   "execution_count": 120,
   "id": "8045ce29-7875-454b-9df0-a1c594820f68",
   "metadata": {},
   "outputs": [
    {
     "data": {
      "text/plain": [
       "((array([-3.81523515, -3.59034048, -3.46688384, ...,  3.46688384,\n",
       "          3.59034048,  3.81523515]),\n",
       "  array([7.3419698 , 7.3419698 , 7.3419698 , ..., 9.44145209, 9.44145209,\n",
       "         9.44145209])),\n",
       " (0.4069083572791343, 8.42595125312955, 0.9953382184703842))"
      ]
     },
     "execution_count": 120,
     "metadata": {},
     "output_type": "execute_result"
    },
    {
     "data": {
      "image/png": "[encoded data removed]",
      "text/plain": [
       "<Figure size 640x480 with 1 Axes>"
      ]
     },
     "metadata": {},
     "output_type": "display_data"
    }
   ],
   "source": [
    "stats.probplot(np.log(actual_sales[\"Final Sales Price\"]), dist = \"norm\", plot = pylab)"
   ]
  },
  {
   "cell_type": "code",
   "execution_count": 118,
   "id": "148a5266-5afd-4285-b3b7-42d927acc6e3",
   "metadata": {},
   "outputs": [
    {
     "data": {
      "text/plain": [
       "((array([-3.81523515, -3.59034048, -3.46688384, ...,  3.46688384,\n",
       "          3.59034048,  3.81523515]),\n",
       "  array([ 39.29058411,  39.29058411,  39.29058411, ..., 112.2497216 ,\n",
       "         112.2497216 , 112.2497216 ])),\n",
       " (13.807661938763916, 68.96238854382453, 0.9940989708023262))"
      ]
     },
     "execution_count": 118,
     "metadata": {},
     "output_type": "execute_result"
    },
    {
     "data": {
      "image/png": "[encoded data removed]",
      "text/plain": [
       "<Figure size 640x480 with 1 Axes>"
      ]
     },
     "metadata": {},
     "output_type": "display_data"
    }
   ],
   "source": [
    "stats.probplot(pow(actual_sales[\"Final Sales Price\"], 1/2) , dist = \"norm\", plot = pylab)"
   ]
  },
  {
   "cell_type": "code",
   "execution_count": 54,
   "id": "b29287f1-9754-478c-8dfe-539e1ec5958e",
   "metadata": {},
   "outputs": [
    {
     "data": {
      "text/plain": [
       "((array([-3.81523515, -3.59034048, -3.46688384, ...,  3.46688384,\n",
       "          3.59034048,  3.81523515]),\n",
       "  array([-1.72265867, -1.72265867, -1.72265867, ...,  3.87117413,\n",
       "          3.87117413,  3.87117413])),\n",
       " (0.9810912122824258, -2.1893641660782353e-16, 0.9807461033136478))"
      ]
     },
     "execution_count": 54,
     "metadata": {},
     "output_type": "execute_result"
    },
    {
     "data": {
      "image/png": "[encoded data removed]",
      "text/plain": [
       "<Figure size 640x480 with 1 Axes>"
      ]
     },
     "metadata": {},
     "output_type": "display_data"
    }
   ],
   "source": [
    "stats.probplot(actual_sales[\"final_price_standard\"], dist = \"norm\", plot = pylab)"
   ]
  },
  {
   "cell_type": "code",
   "execution_count": 55,
   "id": "6ac32056-b0dc-48f7-97b3-4abfc8a93f78",
   "metadata": {},
   "outputs": [
    {
     "data": {
      "text/plain": [
       "((array([-3.81523515, -3.59034048, -3.46688384, ...,  3.46688384,\n",
       "          3.59034048,  3.81523515]),\n",
       "  array([ 125.,  125.,  125., ..., 5850., 5850., 5850.])),\n",
       " (1039.9751601129306, 1905.5653155363625, 0.9854233837368279))"
      ]
     },
     "execution_count": 55,
     "metadata": {},
     "output_type": "execute_result"
    },
    {
     "data": {
      "image/png": "[encoded data removed]",
      "text/plain": [
       "<Figure size 640x480 with 1 Axes>"
      ]
     },
     "metadata": {},
     "output_type": "display_data"
    }
   ],
   "source": [
    "stats.probplot(actual_sales[\"Profit\"], dist = \"norm\", plot = pylab)"
   ]
  },
  {
   "cell_type": "code",
   "execution_count": 112,
   "id": "8589b815-678c-42a0-a634-1ccd99d7761d",
   "metadata": {},
   "outputs": [
    {
     "data": {
      "text/plain": [
       "((array([-3.81523515, -3.59034048, -3.46688384, ...,  3.46688384,\n",
       "          3.59034048,  3.81523515]),\n",
       "  array([11.18033989, 11.18033989, 11.18033989, ..., 76.4852927 ,\n",
       "         76.4852927 , 76.4852927 ])),\n",
       " (12.608599831649213, 41.779516369440344, 0.9963304920490793))"
      ]
     },
     "execution_count": 112,
     "metadata": {},
     "output_type": "execute_result"
    },
    {
     "data": {
      "image/png": "[encoded data removed]",
      "text/plain": [
       "<Figure size 640x480 with 1 Axes>"
      ]
     },
     "metadata": {},
     "output_type": "display_data"
    }
   ],
   "source": [
    "stats.probplot(pow(actual_sales[\"Profit\"], 1/2), dist = \"norm\", plot = pylab)"
   ]
  },
  {
   "cell_type": "code",
   "execution_count": 116,
   "id": "c97a866a-725c-4076-b9aa-dec1f7c02a13",
   "metadata": {},
   "outputs": [
    {
     "data": {
      "text/plain": [
       "((array([-3.81523515, -3.59034048, -3.46688384, ...,  3.46688384,\n",
       "          3.59034048,  3.81523515]),\n",
       "  array([4.82831374, 4.82831374, 4.82831374, ..., 8.67419694, 8.67419694,\n",
       "         8.67419694])),\n",
       " (0.675800610554501, 7.356049824704234, 0.9690050763132425))"
      ]
     },
     "execution_count": 116,
     "metadata": {},
     "output_type": "execute_result"
    },
    {
     "data": {
      "image/png": "[encoded data removed]",
      "text/plain": [
       "<Figure size 640x480 with 1 Axes>"
      ]
     },
     "metadata": {},
     "output_type": "display_data"
    }
   ],
   "source": [
    "stats.probplot(np.log(actual_sales[\"Profit\"]), dist = \"norm\", plot = pylab)"
   ]
  },
  {
   "cell_type": "code",
   "execution_count": 56,
   "id": "bf708a41-16f3-4110-a900-86eeb5c4c6ad",
   "metadata": {},
   "outputs": [
    {
     "data": {
      "text/plain": [
       "((array([-3.81523515, -3.59034048, -3.46688384, ...,  3.46688384,\n",
       "          3.59034048,  3.81523515]),\n",
       "  array([0., 0., 0., ..., 1., 1., 1.])),\n",
       " (0.32944206420026173, 0.3548084068252877, 0.8939130416958927))"
      ]
     },
     "execution_count": 56,
     "metadata": {},
     "output_type": "execute_result"
    },
    {
     "data": {
      "image/png": "[encoded data removed]",
      "text/plain": [
       "<Figure size 640x480 with 1 Axes>"
      ]
     },
     "metadata": {},
     "output_type": "display_data"
    }
   ],
   "source": [
    "stats.probplot(actual_sales[\"discount_normal\"], dist = \"norm\", plot = pylab)"
   ]
  },
  {
   "cell_type": "markdown",
   "id": "d34bebbf-5872-49d0-ba6a-92d69554eb8f",
   "metadata": {},
   "source": [
    "## Export Processed Files"
   ]
  },
  {
   "cell_type": "code",
   "execution_count": 58,
   "id": "a05f3dff-e329-4c0d-9ee4-a74969fa6374",
   "metadata": {},
   "outputs": [
    {
     "name": "stdout",
     "output_type": "stream",
     "text": [
      "actual_sales saved successfully\n"
     ]
    }
   ],
   "source": [
    "# Saving processed actual_sales sheet\n",
    "actual_sales.to_excel(\"actual_sales.xlsx\", index = False)\n",
    "print(\"actual_sales saved successfully\")"
   ]
  },
  {
   "cell_type": "code",
   "execution_count": 59,
   "id": "38829f3a-c28b-4130-8bcd-f3c778afb797",
   "metadata": {},
   "outputs": [
    {
     "name": "stdout",
     "output_type": "stream",
     "text": [
      "target_sales saved successfully\n"
     ]
    }
   ],
   "source": [
    "# Saving processed target_sales sheet\n",
    "target_sales.to_excel(\"target_sales.xlsx\", index = False)\n",
    "print(\"target_sales saved successfully\")"
   ]
  },
  {
   "cell_type": "code",
   "execution_count": 60,
   "id": "c77eb902-7e0c-4b70-a0ee-a7e40f453dcc",
   "metadata": {},
   "outputs": [
    {
     "name": "stdout",
     "output_type": "stream",
     "text": [
      "product_details saved successfully\n"
     ]
    }
   ],
   "source": [
    "# Saving processed product_details sheet\n",
    "product_details.to_excel(\"product_details.xlsx\", index = False)\n",
    "print(\"product_details saved successfully\")"
   ]
  }
 ],
 "metadata": {
  "kernelspec": {
   "display_name": "Python 3 (ipykernel)",
   "language": "python",
   "name": "python3"
  },
  "language_info": {
   "codemirror_mode": {
    "name": "ipython",
    "version": 3
   },
   "file_extension": ".py",
   "mimetype": "text/x-python",
   "name": "python",
   "nbconvert_exporter": "python",
   "pygments_lexer": "ipython3",
   "version": "3.12.4"
  }
 },
 "nbformat": 4,
 "nbformat_minor": 5
}
